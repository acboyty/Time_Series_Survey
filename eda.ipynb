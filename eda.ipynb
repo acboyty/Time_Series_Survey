{
 "metadata": {
  "language_info": {
   "codemirror_mode": {
    "name": "ipython",
    "version": 3
   },
   "file_extension": ".py",
   "mimetype": "text/x-python",
   "name": "python",
   "nbconvert_exporter": "python",
   "pygments_lexer": "ipython3",
   "version": "3.7.9-final"
  },
  "orig_nbformat": 2,
  "kernelspec": {
   "name": "python3",
   "display_name": "Python 3",
   "language": "python"
  }
 },
 "nbformat": 4,
 "nbformat_minor": 2,
 "cells": [
  {
   "cell_type": "code",
   "execution_count": 1,
   "metadata": {},
   "outputs": [],
   "source": [
    "import pandas as pd \n",
    "import numpy as np\n",
    "import math"
   ]
  },
  {
   "cell_type": "code",
   "execution_count": 3,
   "metadata": {},
   "outputs": [
    {
     "output_type": "execute_result",
     "data": {
      "text/plain": [
       "    0         1         2         3         4         5         6     \\\n",
       "0      9 -0.584754 -0.584754  1.730991 -0.584754 -0.584754 -0.584754   \n",
       "1      9 -0.591434 -0.511104  1.726820 -0.580422 -0.591434 -0.511104   \n",
       "2      9 -0.577945 -0.577945  1.730793 -0.577945 -0.578946 -0.564882   \n",
       "3      9 -0.588925 -0.538088  1.735718 -0.588716 -0.589962 -0.523551   \n",
       "4      9 -0.596633 -0.532188  1.718067 -0.592117 -0.596633 -0.532188   \n",
       "..   ...       ...       ...       ...       ...       ...       ...   \n",
       "95     1 -0.706092 -0.706092  1.619903 -0.706092 -0.706092 -0.706092   \n",
       "96     1 -0.634760 -0.634760  1.584916 -0.634760 -0.634760 -0.634760   \n",
       "97     1 -0.998277  0.102462  1.606925 -0.692702 -0.998277  0.104508   \n",
       "98     1 -0.941473  0.587214  1.523644 -0.645350 -0.938475  0.585218   \n",
       "99     1 -0.661536 -0.661536  1.510327 -0.661536 -0.661536 -0.661536   \n",
       "\n",
       "        7         8         9     ...      1451      1452      1453      1454  \\\n",
       "0   1.729917 -0.584754 -0.584754  ...  1.732726 -0.584734 -0.583729 -0.578603   \n",
       "1   1.727921 -0.580422 -0.591434  ...  1.727396 -0.580731 -0.580731 -0.580731   \n",
       "2   1.731094 -0.577829 -0.580956  ...  1.734727 -0.577751 -0.580956 -0.549798   \n",
       "3   1.735619 -0.588646 -0.588925  ...  1.743664 -0.588876 -0.586852 -0.576483   \n",
       "4   1.715241 -0.592117 -0.595605  ...  1.743258 -0.592403 -0.591524 -0.575158   \n",
       "..       ...       ...       ...  ...       ...       ...       ...       ...   \n",
       "95  1.610364 -0.706092 -0.706092  ...  1.621752 -0.702217 -0.956546  0.122643   \n",
       "96  1.581811 -0.634760 -0.634760  ...  1.608606 -0.631032 -1.039049  0.085802   \n",
       "97  1.607083 -0.692692 -0.999305  ...  1.563691 -0.692653 -0.991113  0.099389   \n",
       "98  1.530411 -0.645379 -0.941473  ...  1.548224 -0.645292 -1.046250  0.582230   \n",
       "99  1.473648 -0.661536 -0.915802  ...  1.510105 -0.660685 -0.851728 -0.660539   \n",
       "\n",
       "        1455      1456      1457      1458      1459      1460  \n",
       "0   1.732726 -0.584734 -0.583729 -0.578603  1.732726 -0.584734  \n",
       "1   1.727396 -0.580731 -0.580731 -0.580731  1.727396 -0.580731  \n",
       "2   1.734727 -0.577751 -0.580956 -0.549798  1.734727 -0.577751  \n",
       "3   1.743664 -0.588876 -0.586852 -0.576483  1.743664 -0.588876  \n",
       "4   1.743258 -0.592403 -0.591524 -0.575158  1.743258 -0.592403  \n",
       "..       ...       ...       ...       ...       ...       ...  \n",
       "95  1.621752 -0.702217 -0.956546  0.122643  1.621752 -0.702217  \n",
       "96  1.608606 -0.631032 -1.039049  0.085802  1.608606 -0.631032  \n",
       "97  1.563691 -0.692653 -0.991113  0.099389  1.563691 -0.692653  \n",
       "98  1.548224 -0.645292 -1.046250  0.582230  1.548224 -0.645292  \n",
       "99  1.510105 -0.660685 -0.851728 -0.660539  1.510105 -0.660685  \n",
       "\n",
       "[100 rows x 1461 columns]"
      ],
      "text/html": "<div>\n<style scoped>\n    .dataframe tbody tr th:only-of-type {\n        vertical-align: middle;\n    }\n\n    .dataframe tbody tr th {\n        vertical-align: top;\n    }\n\n    .dataframe thead th {\n        text-align: right;\n    }\n</style>\n<table border=\"1\" class=\"dataframe\">\n  <thead>\n    <tr style=\"text-align: right;\">\n      <th></th>\n      <th>0</th>\n      <th>1</th>\n      <th>2</th>\n      <th>3</th>\n      <th>4</th>\n      <th>5</th>\n      <th>6</th>\n      <th>7</th>\n      <th>8</th>\n      <th>9</th>\n      <th>...</th>\n      <th>1451</th>\n      <th>1452</th>\n      <th>1453</th>\n      <th>1454</th>\n      <th>1455</th>\n      <th>1456</th>\n      <th>1457</th>\n      <th>1458</th>\n      <th>1459</th>\n      <th>1460</th>\n    </tr>\n  </thead>\n  <tbody>\n    <tr>\n      <th>0</th>\n      <td>9</td>\n      <td>-0.584754</td>\n      <td>-0.584754</td>\n      <td>1.730991</td>\n      <td>-0.584754</td>\n      <td>-0.584754</td>\n      <td>-0.584754</td>\n      <td>1.729917</td>\n      <td>-0.584754</td>\n      <td>-0.584754</td>\n      <td>...</td>\n      <td>1.732726</td>\n      <td>-0.584734</td>\n      <td>-0.583729</td>\n      <td>-0.578603</td>\n      <td>1.732726</td>\n      <td>-0.584734</td>\n      <td>-0.583729</td>\n      <td>-0.578603</td>\n      <td>1.732726</td>\n      <td>-0.584734</td>\n    </tr>\n    <tr>\n      <th>1</th>\n      <td>9</td>\n      <td>-0.591434</td>\n      <td>-0.511104</td>\n      <td>1.726820</td>\n      <td>-0.580422</td>\n      <td>-0.591434</td>\n      <td>-0.511104</td>\n      <td>1.727921</td>\n      <td>-0.580422</td>\n      <td>-0.591434</td>\n      <td>...</td>\n      <td>1.727396</td>\n      <td>-0.580731</td>\n      <td>-0.580731</td>\n      <td>-0.580731</td>\n      <td>1.727396</td>\n      <td>-0.580731</td>\n      <td>-0.580731</td>\n      <td>-0.580731</td>\n      <td>1.727396</td>\n      <td>-0.580731</td>\n    </tr>\n    <tr>\n      <th>2</th>\n      <td>9</td>\n      <td>-0.577945</td>\n      <td>-0.577945</td>\n      <td>1.730793</td>\n      <td>-0.577945</td>\n      <td>-0.578946</td>\n      <td>-0.564882</td>\n      <td>1.731094</td>\n      <td>-0.577829</td>\n      <td>-0.580956</td>\n      <td>...</td>\n      <td>1.734727</td>\n      <td>-0.577751</td>\n      <td>-0.580956</td>\n      <td>-0.549798</td>\n      <td>1.734727</td>\n      <td>-0.577751</td>\n      <td>-0.580956</td>\n      <td>-0.549798</td>\n      <td>1.734727</td>\n      <td>-0.577751</td>\n    </tr>\n    <tr>\n      <th>3</th>\n      <td>9</td>\n      <td>-0.588925</td>\n      <td>-0.538088</td>\n      <td>1.735718</td>\n      <td>-0.588716</td>\n      <td>-0.589962</td>\n      <td>-0.523551</td>\n      <td>1.735619</td>\n      <td>-0.588646</td>\n      <td>-0.588925</td>\n      <td>...</td>\n      <td>1.743664</td>\n      <td>-0.588876</td>\n      <td>-0.586852</td>\n      <td>-0.576483</td>\n      <td>1.743664</td>\n      <td>-0.588876</td>\n      <td>-0.586852</td>\n      <td>-0.576483</td>\n      <td>1.743664</td>\n      <td>-0.588876</td>\n    </tr>\n    <tr>\n      <th>4</th>\n      <td>9</td>\n      <td>-0.596633</td>\n      <td>-0.532188</td>\n      <td>1.718067</td>\n      <td>-0.592117</td>\n      <td>-0.596633</td>\n      <td>-0.532188</td>\n      <td>1.715241</td>\n      <td>-0.592117</td>\n      <td>-0.595605</td>\n      <td>...</td>\n      <td>1.743258</td>\n      <td>-0.592403</td>\n      <td>-0.591524</td>\n      <td>-0.575158</td>\n      <td>1.743258</td>\n      <td>-0.592403</td>\n      <td>-0.591524</td>\n      <td>-0.575158</td>\n      <td>1.743258</td>\n      <td>-0.592403</td>\n    </tr>\n    <tr>\n      <th>...</th>\n      <td>...</td>\n      <td>...</td>\n      <td>...</td>\n      <td>...</td>\n      <td>...</td>\n      <td>...</td>\n      <td>...</td>\n      <td>...</td>\n      <td>...</td>\n      <td>...</td>\n      <td>...</td>\n      <td>...</td>\n      <td>...</td>\n      <td>...</td>\n      <td>...</td>\n      <td>...</td>\n      <td>...</td>\n      <td>...</td>\n      <td>...</td>\n      <td>...</td>\n      <td>...</td>\n    </tr>\n    <tr>\n      <th>95</th>\n      <td>1</td>\n      <td>-0.706092</td>\n      <td>-0.706092</td>\n      <td>1.619903</td>\n      <td>-0.706092</td>\n      <td>-0.706092</td>\n      <td>-0.706092</td>\n      <td>1.610364</td>\n      <td>-0.706092</td>\n      <td>-0.706092</td>\n      <td>...</td>\n      <td>1.621752</td>\n      <td>-0.702217</td>\n      <td>-0.956546</td>\n      <td>0.122643</td>\n      <td>1.621752</td>\n      <td>-0.702217</td>\n      <td>-0.956546</td>\n      <td>0.122643</td>\n      <td>1.621752</td>\n      <td>-0.702217</td>\n    </tr>\n    <tr>\n      <th>96</th>\n      <td>1</td>\n      <td>-0.634760</td>\n      <td>-0.634760</td>\n      <td>1.584916</td>\n      <td>-0.634760</td>\n      <td>-0.634760</td>\n      <td>-0.634760</td>\n      <td>1.581811</td>\n      <td>-0.634760</td>\n      <td>-0.634760</td>\n      <td>...</td>\n      <td>1.608606</td>\n      <td>-0.631032</td>\n      <td>-1.039049</td>\n      <td>0.085802</td>\n      <td>1.608606</td>\n      <td>-0.631032</td>\n      <td>-1.039049</td>\n      <td>0.085802</td>\n      <td>1.608606</td>\n      <td>-0.631032</td>\n    </tr>\n    <tr>\n      <th>97</th>\n      <td>1</td>\n      <td>-0.998277</td>\n      <td>0.102462</td>\n      <td>1.606925</td>\n      <td>-0.692702</td>\n      <td>-0.998277</td>\n      <td>0.104508</td>\n      <td>1.607083</td>\n      <td>-0.692692</td>\n      <td>-0.999305</td>\n      <td>...</td>\n      <td>1.563691</td>\n      <td>-0.692653</td>\n      <td>-0.991113</td>\n      <td>0.099389</td>\n      <td>1.563691</td>\n      <td>-0.692653</td>\n      <td>-0.991113</td>\n      <td>0.099389</td>\n      <td>1.563691</td>\n      <td>-0.692653</td>\n    </tr>\n    <tr>\n      <th>98</th>\n      <td>1</td>\n      <td>-0.941473</td>\n      <td>0.587214</td>\n      <td>1.523644</td>\n      <td>-0.645350</td>\n      <td>-0.938475</td>\n      <td>0.585218</td>\n      <td>1.530411</td>\n      <td>-0.645379</td>\n      <td>-0.941473</td>\n      <td>...</td>\n      <td>1.548224</td>\n      <td>-0.645292</td>\n      <td>-1.046250</td>\n      <td>0.582230</td>\n      <td>1.548224</td>\n      <td>-0.645292</td>\n      <td>-1.046250</td>\n      <td>0.582230</td>\n      <td>1.548224</td>\n      <td>-0.645292</td>\n    </tr>\n    <tr>\n      <th>99</th>\n      <td>1</td>\n      <td>-0.661536</td>\n      <td>-0.661536</td>\n      <td>1.510327</td>\n      <td>-0.661536</td>\n      <td>-0.661536</td>\n      <td>-0.661536</td>\n      <td>1.473648</td>\n      <td>-0.661536</td>\n      <td>-0.915802</td>\n      <td>...</td>\n      <td>1.510105</td>\n      <td>-0.660685</td>\n      <td>-0.851728</td>\n      <td>-0.660539</td>\n      <td>1.510105</td>\n      <td>-0.660685</td>\n      <td>-0.851728</td>\n      <td>-0.660539</td>\n      <td>1.510105</td>\n      <td>-0.660685</td>\n    </tr>\n  </tbody>\n</table>\n<p>100 rows × 1461 columns</p>\n</div>"
     },
     "metadata": {},
     "execution_count": 3
    }
   ],
   "source": [
    "df = pd.read_table('/home/v-tyan/Time_Series_Survey/datasets/UCRArchive_2018/ACSF1/ACSF1_TRAIN.tsv', header=None)\n",
    "df"
   ]
  },
  {
   "cell_type": "code",
   "execution_count": 5,
   "metadata": {},
   "outputs": [],
   "source": [
    "X, y = [], []\n",
    "lookback_window = 50\n",
    "for idx, row in df.iterrows():\n",
    "    row = list(row)[1:]\n",
    "    st = 0\n",
    "    while st < 1000:\n",
    "        X.append(row[st:st + lookback_window])\n",
    "        y.append(row[st + lookback_window])\n",
    "        st += 100\n",
    "    # print(len(X))\n",
    "X, y = np.array(X, dtype=float), np.array(y, dtype=float)\n",
    "np.savetxt('/home/v-tyan/Time_Series_Survey/datasets/UCRArchive_2018/ACSF1/sample_X.txt', X)\n",
    "np.savetxt('/home/v-tyan/Time_Series_Survey/datasets/UCRArchive_2018/ACSF1/sample_Y.txt', y)"
   ]
  },
  {
   "cell_type": "code",
   "execution_count": 9,
   "metadata": {},
   "outputs": [
    {
     "output_type": "execute_result",
     "data": {
      "text/plain": [
       "        V1       V2       V3       V4       V5       V6       V7       V8  \\\n",
       "0       D1  1017.10  1019.30  1017.00  1019.20  1018.70  1015.60  1018.50   \n",
       "1       D2  2793.70  2793.80  2803.70  2805.80  2802.30  2795.00  2806.40   \n",
       "2       D3  1091.30  1088.50  1085.70  1082.90  1080.10  1077.30  1074.50   \n",
       "3       D4  1092.00  1078.00  1064.00  1050.00  1036.00  1022.00  1008.00   \n",
       "4       D5  2938.63  2956.44  2964.41  2972.41  3014.97  3014.23  3024.08   \n",
       "..     ...      ...      ...      ...      ...      ...      ...      ...   \n",
       "995   D996   893.71   891.84   908.38   909.19   909.24   896.53   884.16   \n",
       "996   D997   828.80   823.67   840.97   848.47   845.92   844.13   833.09   \n",
       "997   D998   835.09   827.21   839.85   845.12   844.04   832.45   823.56   \n",
       "998   D999   872.98   872.89   886.41   891.84   888.31   882.35   874.09   \n",
       "999  D1000   815.67   816.35   829.27   834.03   833.63   825.72   816.12   \n",
       "\n",
       "          V9      V10  ...  V9911  V9912  V9913  V9914  V9915  V9916  V9917  \\\n",
       "0    1018.30  1018.40  ...    NaN    NaN    NaN    NaN    NaN    NaN    NaN   \n",
       "1    2782.20  2780.30  ...    NaN    NaN    NaN    NaN    NaN    NaN    NaN   \n",
       "2    1071.70  1068.90  ...    NaN    NaN    NaN    NaN    NaN    NaN    NaN   \n",
       "3    1092.00  1078.00  ...    NaN    NaN    NaN    NaN    NaN    NaN    NaN   \n",
       "4    3031.97  3062.70  ...    NaN    NaN    NaN    NaN    NaN    NaN    NaN   \n",
       "..       ...      ...  ...    ...    ...    ...    ...    ...    ...    ...   \n",
       "995   904.42   908.54  ...    NaN    NaN    NaN    NaN    NaN    NaN    NaN   \n",
       "996   849.55   856.33  ...    NaN    NaN    NaN    NaN    NaN    NaN    NaN   \n",
       "997   842.72   840.68  ...    NaN    NaN    NaN    NaN    NaN    NaN    NaN   \n",
       "998   894.65   900.10  ...    NaN    NaN    NaN    NaN    NaN    NaN    NaN   \n",
       "999   839.09   845.27  ...    NaN    NaN    NaN    NaN    NaN    NaN    NaN   \n",
       "\n",
       "     V9918  V9919  V9920  \n",
       "0      NaN    NaN    NaN  \n",
       "1      NaN    NaN    NaN  \n",
       "2      NaN    NaN    NaN  \n",
       "3      NaN    NaN    NaN  \n",
       "4      NaN    NaN    NaN  \n",
       "..     ...    ...    ...  \n",
       "995    NaN    NaN    NaN  \n",
       "996    NaN    NaN    NaN  \n",
       "997    NaN    NaN    NaN  \n",
       "998    NaN    NaN    NaN  \n",
       "999    NaN    NaN    NaN  \n",
       "\n",
       "[1000 rows x 9920 columns]"
      ],
      "text/html": "<div>\n<style scoped>\n    .dataframe tbody tr th:only-of-type {\n        vertical-align: middle;\n    }\n\n    .dataframe tbody tr th {\n        vertical-align: top;\n    }\n\n    .dataframe thead th {\n        text-align: right;\n    }\n</style>\n<table border=\"1\" class=\"dataframe\">\n  <thead>\n    <tr style=\"text-align: right;\">\n      <th></th>\n      <th>V1</th>\n      <th>V2</th>\n      <th>V3</th>\n      <th>V4</th>\n      <th>V5</th>\n      <th>V6</th>\n      <th>V7</th>\n      <th>V8</th>\n      <th>V9</th>\n      <th>V10</th>\n      <th>...</th>\n      <th>V9911</th>\n      <th>V9912</th>\n      <th>V9913</th>\n      <th>V9914</th>\n      <th>V9915</th>\n      <th>V9916</th>\n      <th>V9917</th>\n      <th>V9918</th>\n      <th>V9919</th>\n      <th>V9920</th>\n    </tr>\n  </thead>\n  <tbody>\n    <tr>\n      <th>0</th>\n      <td>D1</td>\n      <td>1017.10</td>\n      <td>1019.30</td>\n      <td>1017.00</td>\n      <td>1019.20</td>\n      <td>1018.70</td>\n      <td>1015.60</td>\n      <td>1018.50</td>\n      <td>1018.30</td>\n      <td>1018.40</td>\n      <td>...</td>\n      <td>NaN</td>\n      <td>NaN</td>\n      <td>NaN</td>\n      <td>NaN</td>\n      <td>NaN</td>\n      <td>NaN</td>\n      <td>NaN</td>\n      <td>NaN</td>\n      <td>NaN</td>\n      <td>NaN</td>\n    </tr>\n    <tr>\n      <th>1</th>\n      <td>D2</td>\n      <td>2793.70</td>\n      <td>2793.80</td>\n      <td>2803.70</td>\n      <td>2805.80</td>\n      <td>2802.30</td>\n      <td>2795.00</td>\n      <td>2806.40</td>\n      <td>2782.20</td>\n      <td>2780.30</td>\n      <td>...</td>\n      <td>NaN</td>\n      <td>NaN</td>\n      <td>NaN</td>\n      <td>NaN</td>\n      <td>NaN</td>\n      <td>NaN</td>\n      <td>NaN</td>\n      <td>NaN</td>\n      <td>NaN</td>\n      <td>NaN</td>\n    </tr>\n    <tr>\n      <th>2</th>\n      <td>D3</td>\n      <td>1091.30</td>\n      <td>1088.50</td>\n      <td>1085.70</td>\n      <td>1082.90</td>\n      <td>1080.10</td>\n      <td>1077.30</td>\n      <td>1074.50</td>\n      <td>1071.70</td>\n      <td>1068.90</td>\n      <td>...</td>\n      <td>NaN</td>\n      <td>NaN</td>\n      <td>NaN</td>\n      <td>NaN</td>\n      <td>NaN</td>\n      <td>NaN</td>\n      <td>NaN</td>\n      <td>NaN</td>\n      <td>NaN</td>\n      <td>NaN</td>\n    </tr>\n    <tr>\n      <th>3</th>\n      <td>D4</td>\n      <td>1092.00</td>\n      <td>1078.00</td>\n      <td>1064.00</td>\n      <td>1050.00</td>\n      <td>1036.00</td>\n      <td>1022.00</td>\n      <td>1008.00</td>\n      <td>1092.00</td>\n      <td>1078.00</td>\n      <td>...</td>\n      <td>NaN</td>\n      <td>NaN</td>\n      <td>NaN</td>\n      <td>NaN</td>\n      <td>NaN</td>\n      <td>NaN</td>\n      <td>NaN</td>\n      <td>NaN</td>\n      <td>NaN</td>\n      <td>NaN</td>\n    </tr>\n    <tr>\n      <th>4</th>\n      <td>D5</td>\n      <td>2938.63</td>\n      <td>2956.44</td>\n      <td>2964.41</td>\n      <td>2972.41</td>\n      <td>3014.97</td>\n      <td>3014.23</td>\n      <td>3024.08</td>\n      <td>3031.97</td>\n      <td>3062.70</td>\n      <td>...</td>\n      <td>NaN</td>\n      <td>NaN</td>\n      <td>NaN</td>\n      <td>NaN</td>\n      <td>NaN</td>\n      <td>NaN</td>\n      <td>NaN</td>\n      <td>NaN</td>\n      <td>NaN</td>\n      <td>NaN</td>\n    </tr>\n    <tr>\n      <th>...</th>\n      <td>...</td>\n      <td>...</td>\n      <td>...</td>\n      <td>...</td>\n      <td>...</td>\n      <td>...</td>\n      <td>...</td>\n      <td>...</td>\n      <td>...</td>\n      <td>...</td>\n      <td>...</td>\n      <td>...</td>\n      <td>...</td>\n      <td>...</td>\n      <td>...</td>\n      <td>...</td>\n      <td>...</td>\n      <td>...</td>\n      <td>...</td>\n      <td>...</td>\n      <td>...</td>\n    </tr>\n    <tr>\n      <th>995</th>\n      <td>D996</td>\n      <td>893.71</td>\n      <td>891.84</td>\n      <td>908.38</td>\n      <td>909.19</td>\n      <td>909.24</td>\n      <td>896.53</td>\n      <td>884.16</td>\n      <td>904.42</td>\n      <td>908.54</td>\n      <td>...</td>\n      <td>NaN</td>\n      <td>NaN</td>\n      <td>NaN</td>\n      <td>NaN</td>\n      <td>NaN</td>\n      <td>NaN</td>\n      <td>NaN</td>\n      <td>NaN</td>\n      <td>NaN</td>\n      <td>NaN</td>\n    </tr>\n    <tr>\n      <th>996</th>\n      <td>D997</td>\n      <td>828.80</td>\n      <td>823.67</td>\n      <td>840.97</td>\n      <td>848.47</td>\n      <td>845.92</td>\n      <td>844.13</td>\n      <td>833.09</td>\n      <td>849.55</td>\n      <td>856.33</td>\n      <td>...</td>\n      <td>NaN</td>\n      <td>NaN</td>\n      <td>NaN</td>\n      <td>NaN</td>\n      <td>NaN</td>\n      <td>NaN</td>\n      <td>NaN</td>\n      <td>NaN</td>\n      <td>NaN</td>\n      <td>NaN</td>\n    </tr>\n    <tr>\n      <th>997</th>\n      <td>D998</td>\n      <td>835.09</td>\n      <td>827.21</td>\n      <td>839.85</td>\n      <td>845.12</td>\n      <td>844.04</td>\n      <td>832.45</td>\n      <td>823.56</td>\n      <td>842.72</td>\n      <td>840.68</td>\n      <td>...</td>\n      <td>NaN</td>\n      <td>NaN</td>\n      <td>NaN</td>\n      <td>NaN</td>\n      <td>NaN</td>\n      <td>NaN</td>\n      <td>NaN</td>\n      <td>NaN</td>\n      <td>NaN</td>\n      <td>NaN</td>\n    </tr>\n    <tr>\n      <th>998</th>\n      <td>D999</td>\n      <td>872.98</td>\n      <td>872.89</td>\n      <td>886.41</td>\n      <td>891.84</td>\n      <td>888.31</td>\n      <td>882.35</td>\n      <td>874.09</td>\n      <td>894.65</td>\n      <td>900.10</td>\n      <td>...</td>\n      <td>NaN</td>\n      <td>NaN</td>\n      <td>NaN</td>\n      <td>NaN</td>\n      <td>NaN</td>\n      <td>NaN</td>\n      <td>NaN</td>\n      <td>NaN</td>\n      <td>NaN</td>\n      <td>NaN</td>\n    </tr>\n    <tr>\n      <th>999</th>\n      <td>D1000</td>\n      <td>815.67</td>\n      <td>816.35</td>\n      <td>829.27</td>\n      <td>834.03</td>\n      <td>833.63</td>\n      <td>825.72</td>\n      <td>816.12</td>\n      <td>839.09</td>\n      <td>845.27</td>\n      <td>...</td>\n      <td>NaN</td>\n      <td>NaN</td>\n      <td>NaN</td>\n      <td>NaN</td>\n      <td>NaN</td>\n      <td>NaN</td>\n      <td>NaN</td>\n      <td>NaN</td>\n      <td>NaN</td>\n      <td>NaN</td>\n    </tr>\n  </tbody>\n</table>\n<p>1000 rows × 9920 columns</p>\n</div>"
     },
     "metadata": {},
     "execution_count": 9
    }
   ],
   "source": [
    "df = pd.read_csv(\"/home/v-tyan/Time_Series_Survey/datasets/M4/Daily-train.csv\", nrows=1000)\n",
    "df"
   ]
  },
  {
   "cell_type": "code",
   "execution_count": 72,
   "metadata": {
    "tags": []
   },
   "outputs": [],
   "source": [
    "X, y = [], []\n",
    "lookback_window = 50\n",
    "for idx, row in df.iterrows():\n",
    "    row = list(row)[1:]\n",
    "    st = 0\n",
    "    while st < 5 and st + lookback_window + 1 <= len(row) and not math.isnan(row[st + lookback_window + 1 - 1]):\n",
    "        X.append(row[st:st + lookback_window])\n",
    "        y.append(row[st + lookback_window])\n",
    "        st += 1\n",
    "X, y = np.array(X, dtype=float), np.array(y, dtype=float)"
   ]
  },
  {
   "cell_type": "code",
   "execution_count": 73,
   "metadata": {},
   "outputs": [],
   "source": [
    "np.savetxt('/home/v-tyan/Time_Series_Survey/datasets/M4/M4_sample_X.txt', X)\n",
    "np.savetxt('/home/v-tyan/Time_Series_Survey/datasets/M4/M4_sample_y.txt', y)"
   ]
  },
  {
   "cell_type": "code",
   "execution_count": 7,
   "metadata": {},
   "outputs": [],
   "source": [
    "X, y = [], []\n",
    "lookback_window = 50\n",
    "for idx, row in df.iterrows():\n",
    "    row = list(row)[1:]\n",
    "    st = 0\n",
    "    while st < 25 and st + lookback_window + 1 <= len(row) and not math.isnan(row[st + lookback_window + 1 - 1]):\n",
    "        X.append(row[st:st + lookback_window])\n",
    "        y.append(row[st + lookback_window])\n",
    "        st += 5\n",
    "X, y = np.array(X, dtype=float), np.array(y, dtype=float)"
   ]
  },
  {
   "cell_type": "code",
   "execution_count": 8,
   "metadata": {},
   "outputs": [],
   "source": [
    "np.savetxt('/home/v-tyan/Time_Series_Survey/datasets/M4/M4_sample_1_X.txt', X)\n",
    "np.savetxt('/home/v-tyan/Time_Series_Survey/datasets/M4/M4_sample_1_y.txt', y)"
   ]
  },
  {
   "cell_type": "code",
   "execution_count": 10,
   "metadata": {},
   "outputs": [],
   "source": [
    "X, y = [], []\n",
    "lookback_window = 50\n",
    "for idx, row in df.iterrows():\n",
    "    row = list(row)[1:]\n",
    "    st = 0\n",
    "    while st < 1 and st + lookback_window + 1 <= len(row) and not math.isnan(row[st + lookback_window + 1 - 1]):\n",
    "        X.append(row[st:st + lookback_window])\n",
    "        y.append(row[st + lookback_window])\n",
    "        st += 1\n",
    "X, y = np.array(X, dtype=float), np.array(y, dtype=float)"
   ]
  },
  {
   "cell_type": "code",
   "execution_count": 12,
   "metadata": {},
   "outputs": [],
   "source": [
    "np.savetxt('/home/v-tyan/Time_Series_Survey/datasets/M4/M4_sample_2_X.txt', X)\n",
    "np.savetxt('/home/v-tyan/Time_Series_Survey/datasets/M4/M4_sample_2_y.txt', y)"
   ]
  }
 ]
}